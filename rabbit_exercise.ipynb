{
 "cells": [
  {
   "cell_type": "markdown",
   "metadata": {},
   "source": [
    "This problem borrowed from Rosalind, which offers an array of intellectually stimulating problems extracted from real challenges of biology:\n",
    "http://rosalind.info/problems/fib/"
   ]
  },
  {
   "cell_type": "markdown",
   "metadata": {},
   "source": [
    "This exercise is essentially to produce a Fibonacci series. \n",
    "\n",
    "Start by making a list of rabbit counts (in pairs) for a few months by hand (i.e. the first few items in the Fibonacci series)."
   ]
  },
  {
   "cell_type": "code",
   "execution_count": 1,
   "metadata": {},
   "outputs": [],
   "source": []
  },
  {
   "cell_type": "markdown",
   "metadata": {},
   "source": [
    "Get the next value in the list by adding the last value in the current list to the value before that. Hint: to access the last value in the list use my_list_name[-1]."
   ]
  },
  {
   "cell_type": "code",
   "execution_count": null,
   "metadata": {},
   "outputs": [],
   "source": []
  },
  {
   "cell_type": "markdown",
   "metadata": {},
   "source": [
    "Now append that value to your existing list. Print the list."
   ]
  },
  {
   "cell_type": "markdown",
   "metadata": {},
   "source": [
    "Run the code several times to keep appending values to the list.\n",
    "\n",
    "To run the code repeatedly (not by hand) put it in a loop. Include your initial list here as well. Hint: use the range function to generate a list of numbers to iterate through."
   ]
  },
  {
   "cell_type": "code",
   "execution_count": null,
   "metadata": {},
   "outputs": [],
   "source": []
  },
  {
   "cell_type": "markdown",
   "metadata": {},
   "source": [
    "Generalize your code by allowing the rabbits to have more than one pair of offspring. Assign the number of offspring pairs per litter to a variable k. Now to get the current month of rabbit pairs add to the prior month the number of rabbit pairs from two months ago times k. Include your initial list here as well."
   ]
  },
  {
   "cell_type": "code",
   "execution_count": null,
   "metadata": {},
   "outputs": [],
   "source": []
  },
  {
   "cell_type": "markdown",
   "metadata": {},
   "source": [
    "We can extend this problem by considering that rabbits don't live forever. Now to get the current month of rabbit pairs add to the prior month the number of rabbit pairs from two months ago times k and subtract the rabbits that were alive m months ago. See http://rosalind.info/problems/fibd/ for more on this problem."
   ]
  },
  {
   "cell_type": "code",
   "execution_count": null,
   "metadata": {},
   "outputs": [],
   "source": []
  }
 ],
 "metadata": {
  "anaconda-cloud": {},
  "kernelspec": {
   "display_name": "Python 3",
   "language": "python",
   "name": "python3"
  },
  "language_info": {
   "codemirror_mode": {
    "name": "ipython",
    "version": 3
   },
   "file_extension": ".py",
   "mimetype": "text/x-python",
   "name": "python",
   "nbconvert_exporter": "python",
   "pygments_lexer": "ipython3",
   "version": "3.7.3"
  }
 },
 "nbformat": 4,
 "nbformat_minor": 2
}
